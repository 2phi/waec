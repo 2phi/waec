{
 "cells": [
  {
   "cell_type": "markdown",
   "id": "4f849a30",
   "metadata": {},
   "source": [
    "# How to use WEAC v2.0"
   ]
  },
  {
   "cell_type": "markdown",
   "id": "25e39ae7",
   "metadata": {},
   "source": [
    "### About the project\n",
    "---\n",
    "WEAC implements closed-form analytical models for the [mechanical analysis of dry-snow slabs on compliant weak layers](https://doi.org/10.5194/tc-14-115-2020), the [prediction of anticrack onset](https://doi.org/10.5194/tc-14-131-2020), and, in particular, allwos for stratified snow covers. The model covers propagation saw tests (a), and uncracked (b) or cracked (c) skier-loaded buried weak layers.\n",
    "\n",
    "<img style=\"float: left; margin: 0 0 15px 0;\" img src=\"../img/bc.png\" alt=\"bc\" width=\"400\"/>\n",
    "\n",
    "Please refer to the companion papers for model derivations, illustrations, dimensions, material properties, and kinematics:\n",
    "\n",
    "- Rosendahl, P. L., & Weißgraeber, P. (2020). Modeling snow slab avalanches caused by weak-layer failure – Part 1: Slabs on compliant and collapsible weak layers. The Cryosphere, 14(1), 115–130. https://doi.org/10.5194/tc-14-115-2020\n",
    "- Rosendahl, P. L., & Weißgraeber, P. (2020). Modeling snow slab avalanches caused by weak-layer failure – Part 2: Coupled mixed-mode criterion for skier-triggered anticracks. The Cryosphere, 14(1), 131–145. https://doi.org/10.5194/tc-14-131-2020\n",
    "\n",
    "Completely rewritten in [Python](https://www.python.org) and built with [Atom](https://atom.io), [GitKraken](https://www.gitkraken.com), and [Jupyter](https://jupyter.org). Looking for the [MATLAB](https://www.mathworks.com/products/matlab.html) implementation? Check out [release v1.0](https://github.com/2phi/weac/releases/tag/v1.0.0)."
   ]
  },
  {
   "cell_type": "markdown",
   "id": "40fe0e44",
   "metadata": {},
   "source": [
    "### Installation\n",
    "---\n",
    "Install globally using the `pip` Package Installer for Python\n",
    "```sh\n",
    "pip install weac\n",
    "```\n",
    "or clone the repo\n",
    "```sh\n",
    "git clone https://github.com/2phi/weac\n",
    "```\n",
    "for local use.\n",
    "\n",
    "Needs\n",
    "- [Numpy](https://numpy.org/) for matrix operations\n",
    "- [Scipy](https://www.scipy.org/) for solving optimization problems\n",
    "- [Pandas](https://pandas.pydata.org/) for data handling\n",
    "- [Matplotlib](https://matplotlib.org/) for plotting\n",
    "- [Timeit](https://docs.python.org/3/library/timeit.html) for timing"
   ]
  },
  {
   "cell_type": "markdown",
   "id": "36d0a739",
   "metadata": {},
   "source": [
    "### License\n",
    "---\n",
    "Copyright 2phi GbR, 2021.\n",
    "\n",
    "We currently do not offer an open source license. Please contact us for private licensing options."
   ]
  },
  {
   "cell_type": "markdown",
   "id": "c1f40652",
   "metadata": {},
   "source": [
    "### Contact\n",
    "---\n",
    "E-mail: mail@2phi.de · Web: https://2phi.de · Project Link: [https://github.com/2phi/weac](https://github.com/2phi/weac)"
   ]
  },
  {
   "cell_type": "markdown",
   "id": "4f4dddac",
   "metadata": {},
   "source": [
    "# Usage\n",
    "---"
   ]
  },
  {
   "cell_type": "markdown",
   "id": "e12c544c",
   "metadata": {},
   "source": [
    "### Preamble"
   ]
  },
  {
   "cell_type": "code",
   "execution_count": 3,
   "id": "62e5b62a",
   "metadata": {},
   "outputs": [],
   "source": [
    "# === NOTEBOOK SETUP ========================================================\n",
    "\n",
    "%reload_ext autoreload\n",
    "%autoreload 2\n",
    "%matplotlib inline\n",
    "\n",
    "# === SYSTEM PATHS ==========================================================\n",
    "\n",
    "# REMOVE AFTER PIP INSTALLATION\n",
    "import sys, os\n",
    "sys.path.insert(1, os.path.join(sys.path[0], '..'))\n",
    "\n",
    "# === LOAD MODULES ==========================================================\n",
    "\n",
    "# Weak layer anticrack nucleation model\n",
    "import weac\n",
    "\n",
    "# Prepare output\n",
    "import matplotlib.pyplot as plt\n",
    "plt.rcParams['figure.dpi'] = 150"
   ]
  },
  {
   "cell_type": "markdown",
   "id": "5bb5638e",
   "metadata": {},
   "source": [
    "### Snow profile database"
   ]
  },
  {
   "cell_type": "markdown",
   "id": "c1b5281f",
   "metadata": {},
   "source": [
    "<img src=\"../img/profiles.png\" alt=\"profiles\" width=\"300\"/>"
   ]
  },
  {
   "cell_type": "markdown",
   "id": "dc51fee5",
   "metadata": {},
   "source": [
    "### Create model instances"
   ]
  },
  {
   "cell_type": "code",
   "execution_count": 5,
   "id": "893fbdd1",
   "metadata": {},
   "outputs": [],
   "source": [
    "# Propagation saw test with homogeneous snow slab\n",
    "pst = weac.Layered(system='pst'x)\n",
    "\n",
    "# One skier on slab with profile B\n",
    "skier_on_B = weac.Layered(\n",
    "    system='skier',\n",
    "    mat='profile.B')\n",
    "\n",
    "# Multiple skiers on slab with profile C\n",
    "skiers_on_C = weac.Layered(\n",
    "    system='skiers',\n",
    "    mat='profile.C')"
   ]
  },
  {
   "cell_type": "code",
   "execution_count": null,
   "id": "63f8bd4f",
   "metadata": {},
   "outputs": [],
   "source": []
  }
 ],
 "metadata": {
  "kernelspec": {
   "display_name": "Python 3",
   "language": "python",
   "name": "python3"
  },
  "language_info": {
   "codemirror_mode": {
    "name": "ipython",
    "version": 3
   },
   "file_extension": ".py",
   "mimetype": "text/x-python",
   "name": "python",
   "nbconvert_exporter": "python",
   "pygments_lexer": "ipython3",
   "version": "3.8.1"
  }
 },
 "nbformat": 4,
 "nbformat_minor": 5
}
