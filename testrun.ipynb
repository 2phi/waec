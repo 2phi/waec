{
 "cells": [
  {
   "cell_type": "code",
   "execution_count": 11,
   "metadata": {},
   "outputs": [
    {
     "name": "stdout",
     "output_type": "stream",
     "text": [
      "The autoreload extension is already loaded. To reload it, use:\n",
      "  %reload_ext autoreload\n"
     ]
    }
   ],
   "source": [
    "%load_ext autoreload\n",
    "%autoreload \n",
    "\n",
    "import weac\n",
    "import numpy as np\n",
    "import matplotlib.pyplot as plt"
   ]
  },
  {
   "cell_type": "code",
   "execution_count": 12,
   "metadata": {},
   "outputs": [
    {
     "name": "stdout",
     "output_type": "stream",
     "text": [
      "[-375. -255. -135.  -15.]\n"
     ]
    }
   ],
   "source": [
    "pst = weac.Layered(layers = 'b',phi = 38,system = '-pst')"
   ]
  },
  {
   "cell_type": "code",
   "execution_count": 4,
   "metadata": {},
   "outputs": [
    {
     "data": {
      "text/plain": [
       "array([[-1.76659443e-01],\n",
       "       [ 0.00000000e+00],\n",
       "       [ 7.53712586e-02],\n",
       "       [ 0.00000000e+00],\n",
       "       [ 1.44976471e-05],\n",
       "       [ 0.00000000e+00],\n",
       "       [-7.01235459e-04],\n",
       "       [ 0.00000000e+00],\n",
       "       [ 2.99180153e-04],\n",
       "       [ 0.00000000e+00]])"
      ]
     },
     "execution_count": 4,
     "metadata": {},
     "output_type": "execute_result"
    }
   ],
   "source": [
    "pst.zp(0,38,True)"
   ]
  },
  {
   "cell_type": "code",
   "execution_count": 14,
   "metadata": {},
   "outputs": [
    {
     "name": "stdout",
     "output_type": "stream",
     "text": [
      "[[ 0.00479828]\n",
      " [-0.01124649]\n",
      " [-0.00479828]\n",
      " [ 0.01124649]]\n",
      "[[ 0.00000000e+00  0.00000000e+00  0.00000000e+00  1.36304056e+06\n",
      "   0.00000000e+00  1.64771430e+04  0.00000000e+00  0.00000000e+00\n",
      "   0.00000000e+00  0.00000000e+00  0.00000000e+00  0.00000000e+00\n",
      "   0.00000000e+00  0.00000000e+00  0.00000000e+00  0.00000000e+00]\n",
      " [ 0.00000000e+00  0.00000000e+00  0.00000000e+00  2.01870742e+08\n",
      "   0.00000000e+00  1.36304056e+06  0.00000000e+00  0.00000000e+00\n",
      "   0.00000000e+00  0.00000000e+00  0.00000000e+00  0.00000000e+00\n",
      "   0.00000000e+00  0.00000000e+00  0.00000000e+00  0.00000000e+00]\n",
      " [ 0.00000000e+00  5.14910720e+03  5.14910720e+03  0.00000000e+00\n",
      "   0.00000000e+00  0.00000000e+00  0.00000000e+00  0.00000000e+00\n",
      "   0.00000000e+00  0.00000000e+00  0.00000000e+00  0.00000000e+00\n",
      "   0.00000000e+00  0.00000000e+00  0.00000000e+00  0.00000000e+00]\n",
      " [ 0.00000000e+00  1.12413111e+02  2.92413111e+02  3.60000000e+04\n",
      "   1.00000000e+00  2.00000000e+02  1.07453750e-04 -1.80782106e-83\n",
      "   4.57785271e-04 -2.51866169e-30  9.99904773e-01 -6.54975070e-01\n",
      "  -1.86894249e-01 -1.79567214e-02  2.26621196e-01 -2.17736698e-02]\n",
      " [ 1.00000000e+00  1.22960041e+02 -7.70399588e+01 -2.00000000e+04\n",
      "   0.00000000e+00  0.00000000e+00 -1.48075313e-04 -2.49124547e-83\n",
      "  -2.88654066e-04 -1.58812872e-30  1.37501756e-02  9.00687990e-03\n",
      "  -9.55583927e-01  9.18121044e-02 -0.00000000e+00 -0.00000000e+00]\n",
      " [ 0.00000000e+00  1.15559938e+00  2.15559938e+00  2.00000000e+02\n",
      "   0.00000000e+00  0.00000000e+00  7.21674742e-07 -1.21415846e-85\n",
      "   3.12063779e-06 -1.71692524e-32 -4.67839020e-05  3.06452077e-05\n",
      "  -1.87656549e-03 -1.80299628e-04  2.36032389e-03 -2.26778934e-04]\n",
      " [ 0.00000000e+00 -1.81898940e-12 -1.81898940e-12  1.36304056e+06\n",
      "   0.00000000e+00  1.64771430e+04 -6.26344549e-02 -1.05377324e-80\n",
      "  -1.44567448e-05 -7.95387087e-32 -7.87905622e+00 -5.16107687e+00\n",
      "   3.54066829e-01 -3.40185930e-02 -4.46263868e-02 -4.28768460e-03]\n",
      " [ 0.00000000e+00  1.02982144e+06  1.02982144e+06 -4.34765599e+07\n",
      "   0.00000000e+00 -1.60284518e+06  9.39215397e-01  1.58015274e-79\n",
      "   4.90312341e-01  2.69762045e-27  8.86408324e+02  5.80630646e+02\n",
      "  -9.68168648e+01  9.30212391e+00 -9.49660715e+02 -9.12430047e+01]\n",
      " [ 0.00000000e+00  5.14910720e+03  5.14910720e+03  0.00000000e+00\n",
      "   0.00000000e+00  0.00000000e+00  6.03593648e-06 -1.01549672e-84\n",
      "   6.35707624e-02 -3.49756216e-28 -3.75015032e-01  2.45648889e-01\n",
      "   2.24705510e+00  2.15896115e-01  2.01770052e+00 -1.93859823e-01]\n",
      " [ 0.00000000e+00  0.00000000e+00  0.00000000e+00  0.00000000e+00\n",
      "   0.00000000e+00  0.00000000e+00  1.05377324e-80  6.26344549e-02\n",
      "   7.95387087e-32  1.44567448e-05  5.16107687e+00  7.87905622e+00\n",
      "   1.42949572e-02 -2.24618525e-01 -3.11657361e-02  2.77310930e-01]\n",
      " [ 0.00000000e+00  0.00000000e+00  0.00000000e+00  0.00000000e+00\n",
      "   0.00000000e+00  0.00000000e+00 -1.58015274e-79 -9.39215397e-01\n",
      "  -2.69762045e-27 -4.90312341e-01 -5.80630646e+02 -8.86408324e+02\n",
      "  -8.24321502e+01 -7.55853358e+02 -4.02089049e+01 -5.83022024e+02]\n",
      " [ 0.00000000e+00  0.00000000e+00  0.00000000e+00  0.00000000e+00\n",
      "   0.00000000e+00  0.00000000e+00 -1.01549672e-84  6.03593646e-06\n",
      "  -3.49756216e-28  6.35707624e-02  2.45648889e-01 -3.75015032e-01\n",
      "   2.78560963e-01 -5.29515528e-01 -8.12191714e-02 -2.97321128e+00]\n",
      " [ 0.00000000e+00  0.00000000e+00  0.00000000e+00  0.00000000e+00\n",
      "   0.00000000e+00  0.00000000e+00 -4.80420964e-06 -8.08268799e-85\n",
      "   2.71534235e-01  1.49393814e-27 -2.08737887e-03 -1.36731133e-03\n",
      "   6.07322225e-02 -5.83512656e-03 -2.99134083e-03 -2.87406777e-04]\n",
      " [ 0.00000000e+00  0.00000000e+00  0.00000000e+00  0.00000000e+00\n",
      "   0.00000000e+00  0.00000000e+00 -2.67688997e-01  4.50364744e-80\n",
      "  -1.76802112e-05  9.72737076e-32 -6.36621625e-02  4.17011004e-02\n",
      "   1.40271312e-02  1.34772090e-03 -1.63761170e-02  1.57341048e-03]\n",
      " [ 0.00000000e+00  0.00000000e+00  0.00000000e+00  0.00000000e+00\n",
      "   0.00000000e+00  0.00000000e+00  8.08268799e-85  4.80420964e-06\n",
      "  -1.49393814e-27 -2.71534235e-01  1.36731133e-03  2.08737887e-03\n",
      "   2.83267663e-03 -3.45659567e-02 -5.10952520e-03  5.00254497e-02]\n",
      " [ 0.00000000e+00  0.00000000e+00  0.00000000e+00  0.00000000e+00\n",
      "   0.00000000e+00  0.00000000e+00  4.50364744e-80 -2.67688997e-01\n",
      "   9.72737076e-32 -1.76802112e-05  4.17011004e-02 -6.36621625e-02\n",
      "  -6.26233959e-04  2.13109635e-02 -1.97479194e-03 -3.28335998e-03]]\n",
      "[[ 0.00000000e+00]\n",
      " [ 0.00000000e+00]\n",
      " [ 0.00000000e+00]\n",
      " [ 1.75558773e-01]\n",
      " [-7.72021885e-02]\n",
      " [-3.30471635e-05]\n",
      " [ 1.19710587e-01]\n",
      " [-3.27583255e+01]\n",
      " [-2.46791658e-01]\n",
      " [-3.74951653e-03]\n",
      " [ 0.00000000e+00]\n",
      " [ 9.83682568e-02]\n",
      " [ 4.79828335e-03]\n",
      " [-1.12464894e-02]\n",
      " [-4.79828335e-03]\n",
      " [ 1.12464894e-02]]\n"
     ]
    }
   ],
   "source": [
    "\n",
    "\n",
    "segments = pst.calc_segments(L = 1.2e3, a = 200)\n",
    "C0 = pst.assemble_and_solve(li = segments['crack']['li'],mi = segments['crack']['mi'],ki = segments['crack']['ki'], phi = 38) "
   ]
  },
  {
   "cell_type": "code",
   "execution_count": 21,
   "metadata": {},
   "outputs": [
    {
     "data": {
      "text/plain": [
       "array([[ 0.33293301, -0.04743158],\n",
       "       [-0.00044473,  0.05154423],\n",
       "       [ 0.00044473, -0.056944  ],\n",
       "       [ 0.        ,  0.00589004],\n",
       "       [-0.28514431,  0.04672929],\n",
       "       [ 0.        , -0.03530626],\n",
       "       [        nan,  0.16866611],\n",
       "       [        nan, -0.06489682],\n",
       "       [        nan, -0.03708754],\n",
       "       [        nan,  0.06989825]])"
      ]
     },
     "execution_count": 21,
     "metadata": {},
     "output_type": "execute_result"
    }
   ],
   "source": [
    "C0"
   ]
  },
  {
   "cell_type": "code",
   "execution_count": 15,
   "metadata": {},
   "outputs": [],
   "source": [
    "xq,zq,xb =pst.rasterize_solution(C0,phi =38, li = segments['crack']['li'],ki = segments['crack']['ki'])"
   ]
  },
  {
   "cell_type": "code",
   "execution_count": 16,
   "metadata": {},
   "outputs": [
    {
     "data": {
      "text/plain": [
       "[<matplotlib.lines.Line2D at 0x1feec9a43d0>]"
      ]
     },
     "execution_count": 16,
     "metadata": {},
     "output_type": "execute_result"
    },
    {
     "data": {
      "image/png": "[encoded data removed]",
      "text/plain": [
       "<Figure size 432x288 with 1 Axes>"
      ]
     },
     "metadata": {
      "needs_background": "light"
     },
     "output_type": "display_data"
    }
   ],
   "source": [
    "xsig, tau = pst.get_weaklayer_shearstress(xb,zq)\n",
    "plt.plot(xsig,tau)"
   ]
  },
  {
   "cell_type": "code",
   "execution_count": 10,
   "metadata": {},
   "outputs": [
    {
     "data": {
      "text/plain": [
       "array([      0.     ,       0.     ,       0.     , 1363040.5632 ,\n",
       "             0.     ,   16477.14304])"
      ]
     },
     "execution_count": 10,
     "metadata": {},
     "output_type": "execute_result"
    }
   ],
   "source": [
    "pst.N(pst.zh(0,38,False),False)"
   ]
  },
  {
   "cell_type": "code",
   "execution_count": 8,
   "metadata": {},
   "outputs": [
    {
     "data": {
      "text/plain": [
       "array([[ 0.00000000e+00,  1.00000000e+00,  0.00000000e+00,\n",
       "         0.00000000e+00,  0.00000000e+00,  0.00000000e+00,\n",
       "         0.00000000e+00,  0.00000000e+00,  0.00000000e+00,\n",
       "         0.00000000e+00],\n",
       "       [ 4.94359694e-07,  0.00000000e+00,  0.00000000e+00,\n",
       "         5.98229867e-03,  5.99432006e-03,  0.00000000e+00,\n",
       "        -1.55307678e-06,  0.00000000e+00,  0.00000000e+00,\n",
       "        -1.88831494e-05],\n",
       "       [ 0.00000000e+00,  0.00000000e+00,  0.00000000e+00,\n",
       "         1.00000000e+00,  0.00000000e+00,  0.00000000e+00,\n",
       "         0.00000000e+00,  0.00000000e+00,  0.00000000e+00,\n",
       "         0.00000000e+00],\n",
       "       [ 0.00000000e+00, -1.31174527e-05,  1.61830086e-06,\n",
       "         0.00000000e+00,  0.00000000e+00, -9.99936551e-01,\n",
       "         0.00000000e+00, -2.06048465e-05, -5.08404208e-06,\n",
       "         0.00000000e+00],\n",
       "       [ 0.00000000e+00,  0.00000000e+00,  0.00000000e+00,\n",
       "         0.00000000e+00,  0.00000000e+00,  1.00000000e+00,\n",
       "         0.00000000e+00,  0.00000000e+00,  0.00000000e+00,\n",
       "         0.00000000e+00],\n",
       "       [ 3.23374294e-09,  0.00000000e+00,  0.00000000e+00,\n",
       "         6.15464907e-05,  6.16251259e-05,  0.00000000e+00,\n",
       "        -1.01591031e-08,  0.00000000e+00,  0.00000000e+00,\n",
       "        -1.23519882e-07],\n",
       "       [ 0.00000000e+00,  0.00000000e+00,  0.00000000e+00,\n",
       "         0.00000000e+00,  0.00000000e+00,  0.00000000e+00,\n",
       "         0.00000000e+00,  1.00000000e+00,  0.00000000e+00,\n",
       "         0.00000000e+00],\n",
       "       [-3.14719156e-07,  0.00000000e+00,  0.00000000e+00,\n",
       "         2.44857625e-02, -3.81610267e-03,  0.00000000e+00,\n",
       "         3.65639776e-03,  0.00000000e+00,  0.00000000e+00,\n",
       "         1.20213862e-05],\n",
       "       [ 0.00000000e+00,  0.00000000e+00,  0.00000000e+00,\n",
       "         0.00000000e+00,  0.00000000e+00,  0.00000000e+00,\n",
       "         0.00000000e+00,  0.00000000e+00,  0.00000000e+00,\n",
       "         1.00000000e+00],\n",
       "       [ 0.00000000e+00,  8.48909871e-02, -1.03024232e-06,\n",
       "         0.00000000e+00,  0.00000000e+00,  6.36579379e-01,\n",
       "         0.00000000e+00,  1.31174527e-05,  3.29019179e-02,\n",
       "         0.00000000e+00]])"
      ]
     },
     "execution_count": 8,
     "metadata": {},
     "output_type": "execute_result"
    }
   ],
   "source": [
    "pst.sysmat"
   ]
  },
  {
   "cell_type": "code",
   "execution_count": 17,
   "metadata": {},
   "outputs": [
    {
     "data": {
      "text/plain": [
       "[<matplotlib.lines.Line2D at 0x1feec9f1250>]"
      ]
     },
     "execution_count": 17,
     "metadata": {},
     "output_type": "execute_result"
    },
    {
     "data": {
      "image/png": "[encoded data removed]",
      "text/plain": [
       "<Figure size 432x288 with 1 Axes>"
      ]
     },
     "metadata": {
      "needs_background": "light"
     },
     "output_type": "display_data"
    }
   ],
   "source": [
    "xsig, sig = pst.get_weaklayer_normalstress(xb,zq)\n",
    "plt.plot(xsig,sig)\n"
   ]
  },
  {
   "cell_type": "code",
   "execution_count": 54,
   "metadata": {},
   "outputs": [
    {
     "data": {
      "text/plain": [
       "array([        nan,         nan,         nan,         nan,         nan,\n",
       "               nan,         nan,         nan,         nan,         nan,\n",
       "               nan,         nan,         nan,         nan,         nan,\n",
       "               nan,         nan,         nan,         nan,         nan,\n",
       "               nan,         nan,         nan,         nan,         nan,\n",
       "               nan,         nan,         nan,         nan,         nan,\n",
       "               nan,         nan,         nan,         nan,         nan,\n",
       "               nan,         nan,         nan,         nan,         nan,\n",
       "               nan,         nan, -0.00180003, -0.00185982, -0.00190087,\n",
       "       -0.00192793, -0.00194452, -0.0019533 , -0.00195625, -0.00195487,\n",
       "       -0.00195025, -0.00194325, -0.00193448, -0.00192441, -0.00191339,\n",
       "       -0.00190169, -0.0018895 , -0.00187697, -0.00186421, -0.0018513 ,\n",
       "       -0.00183831, -0.00182528, -0.00181225, -0.00179924, -0.00178627,\n",
       "       -0.00177337, -0.00176053, -0.00174778, -0.00173511, -0.00172252,\n",
       "       -0.00171004, -0.00169765, -0.00168535, -0.00167316, -0.00166107,\n",
       "       -0.00164908, -0.0016372 , -0.00162542, -0.00161374, -0.00160217,\n",
       "       -0.0015907 , -0.00157934, -0.00156808, -0.00155692, -0.00154587,\n",
       "       -0.00153493, -0.00152409, -0.00151335, -0.00150271, -0.00149218,\n",
       "       -0.00148176, -0.00147143, -0.00146121, -0.00145109, -0.00144107,\n",
       "       -0.00143115, -0.00142133, -0.00141162, -0.001402  , -0.00139248,\n",
       "       -0.00138307, -0.00137375, -0.00136452, -0.0013554 , -0.00134637,\n",
       "       -0.00133744, -0.0013286 , -0.00131986, -0.00131121, -0.00130266,\n",
       "       -0.0012942 , -0.00128583, -0.00127755, -0.00126936, -0.00126126,\n",
       "       -0.00125325, -0.00124533, -0.0012375 , -0.00122976, -0.0012221 ,\n",
       "       -0.00121452, -0.00120703, -0.00119963, -0.0011923 , -0.00118506,\n",
       "       -0.0011779 , -0.00117082, -0.00116382, -0.0011569 , -0.00115005,\n",
       "       -0.00114328, -0.00113659, -0.00112997, -0.00112343, -0.00111696,\n",
       "       -0.00111056, -0.00110424, -0.00109798, -0.00109179, -0.00108567,\n",
       "       -0.00107962, -0.00107364, -0.00106772, -0.00106186, -0.00105607,\n",
       "       -0.00105034, -0.00104468, -0.00103907, -0.00103353, -0.00102804,\n",
       "       -0.00102261, -0.00101724, -0.00101192, -0.00100666, -0.00100145,\n",
       "       -0.0009963 , -0.0009912 , -0.00098615, -0.00098114, -0.00097619,\n",
       "       -0.00097129, -0.00096643, -0.00096162, -0.00095686, -0.00095213,\n",
       "       -0.00094746, -0.00094282, -0.00093823, -0.00093367, -0.00092916,\n",
       "       -0.00092468, -0.00092025, -0.00091584, -0.00091148, -0.00090715,\n",
       "       -0.00090285, -0.00089858, -0.00089435, -0.00089015, -0.00088598,\n",
       "       -0.00088184, -0.00087772, -0.00087364, -0.00086958, -0.00086554,\n",
       "       -0.00086153, -0.00085755, -0.00085358, -0.00084964, -0.00084572,\n",
       "       -0.00084182, -0.00083794, -0.00083408, -0.00083024, -0.00082641,\n",
       "       -0.0008226 , -0.00081881, -0.00081503, -0.00081126, -0.00080751,\n",
       "       -0.00080377, -0.00080004, -0.00079632, -0.00079261, -0.00078891,\n",
       "       -0.00078522, -0.00078153, -0.00077786, -0.00077419, -0.00077052,\n",
       "       -0.00076686, -0.0007632 , -0.00075955, -0.0007559 , -0.00075225,\n",
       "       -0.00074861, -0.00074496, -0.00074132, -0.00073767, -0.00073402,\n",
       "       -0.00073037, -0.00072672, -0.00072306, -0.0007194 , -0.00071574,\n",
       "       -0.00071206, -0.00070838, -0.00070469, -0.00070098, -0.00069726,\n",
       "       -0.00069352, -0.00068976, -0.00068596, -0.00068213, -0.00067825,\n",
       "       -0.00067431, -0.00067028, -0.00066615, -0.00066189, -0.00065744,\n",
       "       -0.00065276, -0.00064776, -0.00064235, -0.00063638, -0.00062968,\n",
       "       -0.000622  , -0.00061301, -0.0006023 , -0.00058927, -0.00057315,\n",
       "       -0.00055292, -0.00052719])"
      ]
     },
     "execution_count": 54,
     "metadata": {},
     "output_type": "execute_result"
    }
   ],
   "source": [
    "sig"
   ]
  },
  {
   "cell_type": "code",
   "execution_count": 19,
   "metadata": {},
   "outputs": [],
   "source": [
    "x, w =pst.get_slab_deflection(xq,zq)"
   ]
  },
  {
   "cell_type": "code",
   "execution_count": 20,
   "metadata": {},
   "outputs": [
    {
     "data": {
      "text/plain": [
       "[<matplotlib.lines.Line2D at 0x1feecb83cd0>]"
      ]
     },
     "execution_count": 20,
     "metadata": {},
     "output_type": "execute_result"
    },
    {
     "data": {
      "image/png": "[encoded data removed]",
      "text/plain": [
       "<Figure size 432x288 with 1 Axes>"
      ]
     },
     "metadata": {
      "needs_background": "light"
     },
     "output_type": "display_data"
    }
   ],
   "source": [
    "plt.plot(x,w)"
   ]
  },
  {
   "cell_type": "code",
   "execution_count": 53,
   "metadata": {},
   "outputs": [
    {
     "data": {
      "text/plain": [
       "array([0.27282453, 0.27138963, 0.2699506 , 0.26850742, 0.26706013,\n",
       "       0.26560873, 0.26415325, 0.26269373, 0.26123018, 0.25976267,\n",
       "       0.25829123, 0.25681592, 0.25533678, 0.25385389, 0.25236731,\n",
       "       0.25087712, 0.2493834 , 0.24788622, 0.24638568, 0.24488187,\n",
       "       0.2433749 , 0.24186487, 0.24035188, 0.23883607, 0.23731755,\n",
       "       0.23579644, 0.23427289, 0.23274702, 0.23121899, 0.22968895,\n",
       "       0.22815704, 0.22662343, 0.22508828, 0.22355177, 0.22201407,\n",
       "       0.22047536, 0.21893584, 0.21739569, 0.21585511, 0.21431431,\n",
       "       0.21277349, 0.21123288, 0.20969268, 0.20818083, 0.20667667,\n",
       "       0.20518047, 0.20369249, 0.20221295, 0.20074208, 0.19928006,\n",
       "       0.19782706, 0.19638322, 0.19494867, 0.19352355, 0.19210795,\n",
       "       0.19070198, 0.18930573, 0.1879193 , 0.18654275, 0.18517618,\n",
       "       0.18381963, 0.18247319, 0.18113692, 0.17981085, 0.17849506,\n",
       "       0.17718958, 0.17589445, 0.17460973, 0.17333543, 0.1720716 ,\n",
       "       0.17081825, 0.16957542, 0.16834313, 0.16712139, 0.16591021,\n",
       "       0.1647096 , 0.16351958, 0.16234015, 0.1611713 , 0.16001304,\n",
       "       0.15886536, 0.15772826, 0.15660171, 0.15548571, 0.15438024,\n",
       "       0.15328528, 0.15220082, 0.15112682, 0.15006325, 0.1490101 ,\n",
       "       0.14796733, 0.1469349 , 0.14591278, 0.14490092, 0.1438993 ,\n",
       "       0.14290786, 0.14192656, 0.14095535, 0.13999419, 0.13904302,\n",
       "       0.13810179, 0.13717045, 0.13624894, 0.1353372 , 0.13443517,\n",
       "       0.13354279, 0.13265999, 0.13178672, 0.13092291, 0.13006848,\n",
       "       0.12922337, 0.12838751, 0.12756082, 0.12674324, 0.12593469,\n",
       "       0.12513509, 0.12434436, 0.12356243, 0.12278922, 0.12202465,\n",
       "       0.12126863, 0.12052109, 0.11978194, 0.1190511 , 0.11832847,\n",
       "       0.11761399, 0.11690755, 0.11620907, 0.11551846, 0.11483564,\n",
       "       0.11416051, 0.11349298, 0.11283296, 0.11218037, 0.1115351 ,\n",
       "       0.11089706, 0.11026617, 0.10964232, 0.10902542, 0.10841539,\n",
       "       0.10781211, 0.1072155 , 0.10662546, 0.1060419 , 0.10546472,\n",
       "       0.10489381, 0.10432909, 0.10377046, 0.10321782, 0.10267107,\n",
       "       0.10213011, 0.10159485, 0.10106519, 0.10054103, 0.10002227,\n",
       "       0.09950882, 0.09900057, 0.09849743, 0.0979993 , 0.09750608,\n",
       "       0.09701767, 0.09653398, 0.09605492, 0.09558037, 0.09511025,\n",
       "       0.09464445, 0.09418288, 0.09372545, 0.09327206, 0.0928226 ,\n",
       "       0.092377  , 0.09193514, 0.09149694, 0.09106229, 0.09063112,\n",
       "       0.09020331, 0.08977878, 0.08935744, 0.08893919, 0.08852394,\n",
       "       0.0881116 , 0.08770208, 0.08729528, 0.08689112, 0.08648951,\n",
       "       0.08609035, 0.08569356, 0.08529906, 0.08490674, 0.08451654,\n",
       "       0.08412835, 0.0837421 , 0.08335771, 0.08297508, 0.08259413,\n",
       "       0.08221479, 0.08183697, 0.08146058, 0.08108556, 0.08071182,\n",
       "       0.08033927, 0.07996785, 0.07959748, 0.07922808, 0.07885958,\n",
       "       0.07849189, 0.07812496, 0.0777587 , 0.07739305, 0.07702793,\n",
       "       0.07666328, 0.07629902, 0.07593509, 0.07557143, 0.07520796,\n",
       "       0.07484463, 0.07448137, 0.07411812, 0.07375481, 0.07339139,\n",
       "       0.0730278 , 0.07266398, 0.07229988, 0.07193544, 0.0715706 ,\n",
       "       0.07120531, 0.07083953, 0.0704732 , 0.07010627, 0.06973869,\n",
       "       0.06937043, 0.06900142, 0.06863164, 0.06826103, 0.06788955,\n",
       "       0.06751717, 0.06714385, 0.06676954, 0.06639422, 0.06601784,\n",
       "       0.06564037, 0.06526178, 0.06488203, 0.06450109, 0.06411892,\n",
       "       0.06373549, 0.06335076, 0.06296469, 0.06257723, 0.06218834,\n",
       "       0.06179798, 0.06140612])"
      ]
     },
     "execution_count": 53,
     "metadata": {},
     "output_type": "execute_result"
    }
   ],
   "source": [
    "w"
   ]
  },
  {
   "cell_type": "code",
   "execution_count": null,
   "metadata": {},
   "outputs": [],
   "source": []
  },
  {
   "cell_type": "code",
   "execution_count": 50,
   "metadata": {},
   "outputs": [
    {
     "name": "stdout",
     "output_type": "stream",
     "text": [
      "[False False False False False False False False False False False False\n",
      " False False False False False False False False False False False False\n",
      " False False False False False False False False False False False False\n",
      " False False False False False False  True  True  True  True  True  True\n",
      "  True  True  True  True  True  True  True  True  True  True  True  True\n",
      "  True  True  True  True  True  True  True  True  True  True  True  True\n",
      "  True  True  True  True  True  True  True  True  True  True  True  True\n",
      "  True  True  True  True  True  True  True  True  True  True  True  True\n",
      "  True  True  True  True  True  True  True  True  True  True  True  True\n",
      "  True  True  True  True  True  True  True  True  True  True  True  True\n",
      "  True  True  True  True  True  True  True  True  True  True  True  True\n",
      "  True  True  True  True  True  True  True  True  True  True  True  True\n",
      "  True  True  True  True  True  True  True  True  True  True  True  True\n",
      "  True  True  True  True  True  True  True  True  True  True  True  True\n",
      "  True  True  True  True  True  True  True  True  True  True  True  True\n",
      "  True  True  True  True  True  True  True  True  True  True  True  True\n",
      "  True  True  True  True  True  True  True  True  True  True  True  True\n",
      "  True  True  True  True  True  True  True  True  True  True  True  True\n",
      "  True  True  True  True  True  True  True  True  True  True  True  True\n",
      "  True  True  True  True  True  True  True  True  True  True  True  True\n",
      "  True  True  True  True  True  True  True  True  True  True  True  True]\n"
     ]
    },
    {
     "data": {
      "text/plain": [
       "[<matplotlib.lines.Line2D at 0x220db40f910>]"
      ]
     },
     "execution_count": 50,
     "metadata": {},
     "output_type": "execute_result"
    },
    {
     "data": {
      "image/png": "[encoded data removed]",
      "text/plain": [
       "<Figure size 432x288 with 1 Axes>"
      ]
     },
     "metadata": {
      "needs_background": "light"
     },
     "output_type": "display_data"
    }
   ],
   "source": [
    "x,u = pst.get_slab_displacement(xq,zq)\n",
    "\n",
    "plt.plot(x,u)"
   ]
  },
  {
   "cell_type": "code",
   "execution_count": 51,
   "metadata": {},
   "outputs": [
    {
     "data": {
      "text/plain": [
       "array([-0.04217698, -0.04217696, -0.04217685, -0.04217655, -0.04217597,\n",
       "       -0.04217501, -0.04217358, -0.04217158, -0.04216892, -0.04216551,\n",
       "       -0.04216125, -0.04215604, -0.04214979, -0.04214241, -0.04213381,\n",
       "       -0.04212388, -0.04211254, -0.04209968, -0.04208523, -0.04206907,\n",
       "       -0.04205112, -0.04203128, -0.04200946, -0.04198556, -0.04195949,\n",
       "       -0.04193116, -0.04190046, -0.04186731, -0.04183162, -0.04179327,\n",
       "       -0.0417522 , -0.04170829, -0.04166145, -0.04161159, -0.04155862,\n",
       "       -0.04150244, -0.04144295, -0.04138007, -0.04131369, -0.04124373,\n",
       "       -0.04117009, -0.04109267, -0.04101138, -0.04093582, -0.04085708,\n",
       "       -0.0407752 , -0.04069021, -0.04060217, -0.04051114, -0.04041721,\n",
       "       -0.04032043, -0.0402209 , -0.04011868, -0.04001387, -0.03990654,\n",
       "       -0.03979679, -0.03968468, -0.03957031, -0.03945375, -0.03933509,\n",
       "       -0.03921441, -0.03909178, -0.03896729, -0.03884101, -0.03871302,\n",
       "       -0.03858339, -0.0384522 , -0.03831952, -0.03818541, -0.03804996,\n",
       "       -0.03791323, -0.03777529, -0.0376362 , -0.03749604, -0.03735486,\n",
       "       -0.03721273, -0.03706971, -0.03692587, -0.03678127, -0.03663595,\n",
       "       -0.03648999, -0.03634344, -0.03619636, -0.03604879, -0.03590081,\n",
       "       -0.03575245, -0.03560377, -0.03545482, -0.03530566, -0.03515633,\n",
       "       -0.03500688, -0.03485735, -0.03470781, -0.03455828, -0.03440881,\n",
       "       -0.03425946, -0.03411025, -0.03396124, -0.03381246, -0.03366395,\n",
       "       -0.03351576, -0.03336792, -0.03322047, -0.03307345, -0.03292689,\n",
       "       -0.03278083, -0.03263529, -0.03249033, -0.03234596, -0.03220222,\n",
       "       -0.03205914, -0.03191675, -0.03177509, -0.03163417, -0.03149403,\n",
       "       -0.0313547 , -0.0312162 , -0.03107856, -0.0309418 , -0.03080595,\n",
       "       -0.03067104, -0.03053707, -0.03040409, -0.0302721 , -0.03014114,\n",
       "       -0.03001122, -0.02988236, -0.02975457, -0.02962789, -0.02950233,\n",
       "       -0.02937789, -0.02925462, -0.0291325 , -0.02901157, -0.02889184,\n",
       "       -0.02877332, -0.02865603, -0.02853997, -0.02842517, -0.02831163,\n",
       "       -0.02819937, -0.02808839, -0.02797871, -0.02787034, -0.02776329,\n",
       "       -0.02765756, -0.02755316, -0.02745011, -0.0273484 , -0.02724805,\n",
       "       -0.02714906, -0.02705144, -0.0269552 , -0.02686033, -0.02676685,\n",
       "       -0.02667475, -0.02658404, -0.02649473, -0.02640681, -0.02632029,\n",
       "       -0.02623517, -0.02615145, -0.02606914, -0.02598822, -0.02590871,\n",
       "       -0.0258306 , -0.0257539 , -0.02567859, -0.02560468, -0.02553216,\n",
       "       -0.02546104, -0.02539131, -0.02532297, -0.02525601, -0.02519043,\n",
       "       -0.02512623, -0.0250634 , -0.02500193, -0.02494182, -0.02488306,\n",
       "       -0.02482565, -0.02476958, -0.02471485, -0.02466144, -0.02460935,\n",
       "       -0.02455856, -0.02450908, -0.02446089, -0.02441399, -0.02436835,\n",
       "       -0.02432398, -0.02428087, -0.02423899, -0.02419835, -0.02415892,\n",
       "       -0.02412071, -0.02408369, -0.02404785, -0.02401319, -0.02397968,\n",
       "       -0.02394732, -0.02391608, -0.02388597, -0.02385696, -0.02382903,\n",
       "       -0.02380218, -0.02377638, -0.02375163, -0.0237279 , -0.02370518,\n",
       "       -0.02368345, -0.0236627 , -0.02364291, -0.02362405, -0.02360612,\n",
       "       -0.02358909, -0.02357295, -0.02355767, -0.02354324, -0.02352964,\n",
       "       -0.02351685, -0.02350484, -0.0234936 , -0.0234831 , -0.02347333,\n",
       "       -0.02346426, -0.02345587, -0.02344814, -0.02344104, -0.02343456,\n",
       "       -0.02342866, -0.02342334, -0.02341855, -0.02341428, -0.0234105 ,\n",
       "       -0.02340719, -0.02340433, -0.02340187, -0.02339981, -0.02339811,\n",
       "       -0.02339674, -0.02339569, -0.0233949 , -0.02339437, -0.02339405,\n",
       "       -0.02339392, -0.02339393, -0.02339406, -0.02339426, -0.0233945 ,\n",
       "       -0.02339473, -0.02339489])"
      ]
     },
     "execution_count": 51,
     "metadata": {},
     "output_type": "execute_result"
    }
   ],
   "source": [
    "u"
   ]
  },
  {
   "cell_type": "code",
   "execution_count": 38,
   "metadata": {},
   "outputs": [
    {
     "data": {
      "text/plain": [
       "[<matplotlib.lines.Line2D at 0x220db193c40>]"
      ]
     },
     "execution_count": 38,
     "metadata": {},
     "output_type": "execute_result"
    },
    {
     "data": {
      "image/png": "[encoded data removed]",
      "text/plain": [
       "<Figure size 432x288 with 1 Axes>"
      ]
     },
     "metadata": {
      "needs_background": "light"
     },
     "output_type": "display_data"
    }
   ],
   "source": [
    "x,psi = pst.get_slab_rotation(xq,zq)\n",
    "\n",
    "plt.plot(x,psi)"
   ]
  },
  {
   "cell_type": "code",
   "execution_count": 13,
   "metadata": {},
   "outputs": [
    {
     "data": {
      "text/plain": [
       "'A'"
      ]
     },
     "execution_count": 13,
     "metadata": {},
     "output_type": "execute_result"
    }
   ],
   "source": [
    "pst.mode_td(200)"
   ]
  },
  {
   "cell_type": "code",
   "execution_count": 85,
   "metadata": {},
   "outputs": [],
   "source": [
    "ki = np.array([True,True,False,True])"
   ]
  },
  {
   "cell_type": "code",
   "execution_count": 6,
   "metadata": {},
   "outputs": [
    {
     "data": {
      "text/plain": [
       "4"
      ]
     },
     "execution_count": 6,
     "metadata": {},
     "output_type": "execute_result"
    }
   ],
   "source": [
    "len(ki)"
   ]
  },
  {
   "cell_type": "code",
   "execution_count": 8,
   "metadata": {},
   "outputs": [
    {
     "data": {
      "text/plain": [
       "array([ True,  True, False,  True])"
      ]
     },
     "execution_count": 8,
     "metadata": {},
     "output_type": "execute_result"
    }
   ],
   "source": [
    "ki==True"
   ]
  },
  {
   "cell_type": "code",
   "execution_count": 91,
   "metadata": {},
   "outputs": [
    {
     "data": {
      "text/plain": [
       "numpy.ndarray"
      ]
     },
     "execution_count": 91,
     "metadata": {},
     "output_type": "execute_result"
    }
   ],
   "source": [
    "type(ki)"
   ]
  },
  {
   "cell_type": "code",
   "execution_count": 93,
   "metadata": {},
   "outputs": [
    {
     "data": {
      "text/plain": [
       "True"
      ]
     },
     "execution_count": 93,
     "metadata": {},
     "output_type": "execute_result"
    }
   ],
   "source": [
    "type(ki) == np.ndarray"
   ]
  },
  {
   "cell_type": "code",
   "execution_count": 10,
   "metadata": {},
   "outputs": [],
   "source": [
    "arr = np.array([[1,2,3],[4,5,6]])\n",
    "row = np.array([7,8,9])\n",
    "row_n = arr.shape[0] ##last row\n",
    "arr = np.insert(arr,row_n,[row],axis= 0)\n"
   ]
  },
  {
   "cell_type": "code",
   "execution_count": 19,
   "metadata": {},
   "outputs": [
    {
     "data": {
      "text/plain": [
       "array([[0, 0, 1],\n",
       "       [0, 1, 0],\n",
       "       [1, 2, 3],\n",
       "       [4, 5, 6],\n",
       "       [7, 8, 9]])"
      ]
     },
     "execution_count": 19,
     "metadata": {},
     "output_type": "execute_result"
    }
   ],
   "source": [
    "np.insert(arr,-3,np.array([[0,0,1],[0,1,0]]),axis=0)\n"
   ]
  },
  {
   "cell_type": "code",
   "execution_count": 4,
   "metadata": {},
   "outputs": [],
   "source": [
    "k = False\n",
    "aza = 3 if k else 5"
   ]
  },
  {
   "cell_type": "code",
   "execution_count": 5,
   "metadata": {},
   "outputs": [
    {
     "data": {
      "text/plain": [
       "5"
      ]
     },
     "execution_count": 5,
     "metadata": {},
     "output_type": "execute_result"
    }
   ],
   "source": [
    "aza"
   ]
  },
  {
   "cell_type": "code",
   "execution_count": null,
   "metadata": {},
   "outputs": [],
   "source": []
  }
 ],
 "metadata": {
  "kernelspec": {
   "display_name": "Python 3.9.4 64-bit",
   "language": "python",
   "name": "python3"
  },
  "language_info": {
   "codemirror_mode": {
    "name": "ipython",
    "version": 3
   },
   "file_extension": ".py",
   "mimetype": "text/x-python",
   "name": "python",
   "nbconvert_exporter": "python",
   "pygments_lexer": "ipython3",
   "version": "3.9.4"
  },
  "orig_nbformat": 4,
  "vscode": {
   "interpreter": {
    "hash": "8d5a92a33d7210431a95ff6c7c7f7b09804a26ae12a7f8197825f51bf9a64636"
   }
  }
 },
 "nbformat": 4,
 "nbformat_minor": 2
}
